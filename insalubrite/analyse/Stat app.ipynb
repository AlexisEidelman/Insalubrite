{
 "cells": [
  {
   "cell_type": "markdown",
   "metadata": {
    "collapsed": true,
    "deletable": true,
    "editable": true
   },
   "source": [
    "# Mesure et prédiction de la dégradation de l'habitat - Code Python"
   ]
  },
  {
   "cell_type": "markdown",
   "metadata": {
    "deletable": true,
    "editable": true
   },
   "source": [
    "## Librairies nécessaires"
   ]
  },
  {
   "cell_type": "code",
   "execution_count": 4,
   "metadata": {
    "collapsed": false,
    "deletable": true,
    "editable": true
   },
   "outputs": [],
   "source": [
    "import os\n",
    "import numpy as np\n",
    "import pandas as pd\n",
    "import random as rd\n",
    "from sklearn.ensemble import RandomForestClassifier\n",
    "from sklearn.neighbors import NearestNeighbors\n",
    "from sklearn.neighbors import KNeighborsClassifier\n",
    "from sklearn import preprocessing\n",
    "from sklearn.preprocessing import Imputer\n",
    "from sklearn import tree\n",
    "from IPython.display import Image  \n",
    "import pydotplus\n",
    "import matplotlib.pyplot as pt\n",
    "%matplotlib inline\n",
    "import seaborn as sns\n",
    "from sklearn.cluster import KMeans\n",
    "from sklearn.cross_validation import train_test_split\n",
    "from sklearn.neighbors import NearestNeighbors\n",
    "\n",
    "from insalubrite.config_insal import path_output"
   ]
  },
  {
   "cell_type": "markdown",
   "metadata": {
    "deletable": true,
    "editable": true
   },
   "source": [
    "# 1. Visualisation des données"
   ]
  },
  {
   "cell_type": "markdown",
   "metadata": {
    "deletable": true,
    "editable": true
   },
   "source": [
    "##### On importe la base de donnée et en affiche les premières colonnes."
   ]
  },
  {
   "cell_type": "code",
   "execution_count": 10,
   "metadata": {
    "collapsed": false,
    "deletable": true,
    "editable": true
   },
   "outputs": [
    {
     "name": "stdout",
     "output_type": "stream",
     "text": [
      "17367\n"
     ]
    },
    {
     "data": {
      "text/html": [
       "<div>\n",
       "<table border=\"1\" class=\"dataframe\">\n",
       "  <thead>\n",
       "    <tr style=\"text-align: right;\">\n",
       "      <th></th>\n",
       "      <th>affaire_id</th>\n",
       "      <th>code_cadastre</th>\n",
       "      <th>code_postal</th>\n",
       "      <th>infractiontype_id</th>\n",
       "      <th>L_PDNIV0</th>\n",
       "      <th>L_PDNIV1</th>\n",
       "      <th>L_PDNIV2</th>\n",
       "      <th>B_PUBLIC</th>\n",
       "      <th>NB_BAT</th>\n",
       "      <th>NB_LG</th>\n",
       "      <th>...</th>\n",
       "      <th>RÇ¸sidence hÇïteliÇùre Çÿ vocation sociale</th>\n",
       "      <th>Sans domicile fixe</th>\n",
       "      <th>Structure d??hÇ¸bergement</th>\n",
       "      <th>Sous locataire ou hÇ¸bergÇ¸ dans un logement Çÿ titre temporaire</th>\n",
       "      <th>Locataire dans un logement social</th>\n",
       "      <th>Louez solidaire et sans risque</th>\n",
       "      <th>Dans un squat</th>\n",
       "      <th>TOT_PROP</th>\n",
       "      <th>TOT_LOC</th>\n",
       "      <th>TOTAL_DEM</th>\n",
       "    </tr>\n",
       "  </thead>\n",
       "  <tbody>\n",
       "    <tr>\n",
       "      <th>0</th>\n",
       "      <td>69</td>\n",
       "      <td>751010AR0027</td>\n",
       "      <td>75101</td>\n",
       "      <td>30.0</td>\n",
       "      <td>Multi-propriÇ¸taire</td>\n",
       "      <td>Multi-propriÇ¸taire</td>\n",
       "      <td>CopropriÇ¸tÇ¸</td>\n",
       "      <td>N</td>\n",
       "      <td>2.0</td>\n",
       "      <td>13.0</td>\n",
       "      <td>...</td>\n",
       "      <td>NaN</td>\n",
       "      <td>NaN</td>\n",
       "      <td>NaN</td>\n",
       "      <td>NaN</td>\n",
       "      <td>NaN</td>\n",
       "      <td>NaN</td>\n",
       "      <td>NaN</td>\n",
       "      <td>NaN</td>\n",
       "      <td>NaN</td>\n",
       "      <td>NaN</td>\n",
       "    </tr>\n",
       "    <tr>\n",
       "      <th>1</th>\n",
       "      <td>71</td>\n",
       "      <td>751010AR0099</td>\n",
       "      <td>75101</td>\n",
       "      <td>19.0</td>\n",
       "      <td>Multi-propriÇ¸taire</td>\n",
       "      <td>Multi-propriÇ¸taire</td>\n",
       "      <td>CopropriÇ¸tÇ¸</td>\n",
       "      <td>N</td>\n",
       "      <td>2.0</td>\n",
       "      <td>21.0</td>\n",
       "      <td>...</td>\n",
       "      <td>NaN</td>\n",
       "      <td>NaN</td>\n",
       "      <td>NaN</td>\n",
       "      <td>NaN</td>\n",
       "      <td>NaN</td>\n",
       "      <td>NaN</td>\n",
       "      <td>NaN</td>\n",
       "      <td>NaN</td>\n",
       "      <td>NaN</td>\n",
       "      <td>NaN</td>\n",
       "    </tr>\n",
       "    <tr>\n",
       "      <th>2</th>\n",
       "      <td>72</td>\n",
       "      <td>751010AO0154</td>\n",
       "      <td>75101</td>\n",
       "      <td>30.0</td>\n",
       "      <td>Multi-propriÇ¸taire</td>\n",
       "      <td>Multi-propriÇ¸taire</td>\n",
       "      <td>CopropriÇ¸tÇ¸</td>\n",
       "      <td>N</td>\n",
       "      <td>1.0</td>\n",
       "      <td>19.0</td>\n",
       "      <td>...</td>\n",
       "      <td>NaN</td>\n",
       "      <td>NaN</td>\n",
       "      <td>NaN</td>\n",
       "      <td>NaN</td>\n",
       "      <td>NaN</td>\n",
       "      <td>NaN</td>\n",
       "      <td>NaN</td>\n",
       "      <td>0.0</td>\n",
       "      <td>2.0</td>\n",
       "      <td>2.0</td>\n",
       "    </tr>\n",
       "    <tr>\n",
       "      <th>3</th>\n",
       "      <td>113</td>\n",
       "      <td>751010AX0031</td>\n",
       "      <td>75101</td>\n",
       "      <td>30.0</td>\n",
       "      <td>Multi-propriÇ¸taire</td>\n",
       "      <td>Multi-propriÇ¸taire</td>\n",
       "      <td>CopropriÇ¸tÇ¸</td>\n",
       "      <td>N</td>\n",
       "      <td>1.0</td>\n",
       "      <td>6.0</td>\n",
       "      <td>...</td>\n",
       "      <td>NaN</td>\n",
       "      <td>NaN</td>\n",
       "      <td>NaN</td>\n",
       "      <td>NaN</td>\n",
       "      <td>NaN</td>\n",
       "      <td>NaN</td>\n",
       "      <td>NaN</td>\n",
       "      <td>NaN</td>\n",
       "      <td>NaN</td>\n",
       "      <td>NaN</td>\n",
       "    </tr>\n",
       "    <tr>\n",
       "      <th>4</th>\n",
       "      <td>143</td>\n",
       "      <td>751010AY0054</td>\n",
       "      <td>75101</td>\n",
       "      <td>30.0</td>\n",
       "      <td>Multi-propriÇ¸taire</td>\n",
       "      <td>Multi-propriÇ¸taire</td>\n",
       "      <td>CopropriÇ¸tÇ¸</td>\n",
       "      <td>N</td>\n",
       "      <td>2.0</td>\n",
       "      <td>21.0</td>\n",
       "      <td>...</td>\n",
       "      <td>NaN</td>\n",
       "      <td>NaN</td>\n",
       "      <td>NaN</td>\n",
       "      <td>NaN</td>\n",
       "      <td>NaN</td>\n",
       "      <td>NaN</td>\n",
       "      <td>NaN</td>\n",
       "      <td>NaN</td>\n",
       "      <td>NaN</td>\n",
       "      <td>NaN</td>\n",
       "    </tr>\n",
       "  </tbody>\n",
       "</table>\n",
       "<p>5 rows × 71 columns</p>\n",
       "</div>"
      ],
      "text/plain": [
       "   affaire_id code_cadastre  code_postal  infractiontype_id  \\\n",
       "0          69  751010AR0027        75101               30.0   \n",
       "1          71  751010AR0099        75101               19.0   \n",
       "2          72  751010AO0154        75101               30.0   \n",
       "3         113  751010AX0031        75101               30.0   \n",
       "4         143  751010AY0054        75101               30.0   \n",
       "\n",
       "              L_PDNIV0             L_PDNIV1       L_PDNIV2 B_PUBLIC  NB_BAT  \\\n",
       "0  Multi-propriÇ¸taire  Multi-propriÇ¸taire  CopropriÇ¸tÇ¸        N     2.0   \n",
       "1  Multi-propriÇ¸taire  Multi-propriÇ¸taire  CopropriÇ¸tÇ¸        N     2.0   \n",
       "2  Multi-propriÇ¸taire  Multi-propriÇ¸taire  CopropriÇ¸tÇ¸        N     1.0   \n",
       "3  Multi-propriÇ¸taire  Multi-propriÇ¸taire  CopropriÇ¸tÇ¸        N     1.0   \n",
       "4  Multi-propriÇ¸taire  Multi-propriÇ¸taire  CopropriÇ¸tÇ¸        N     2.0   \n",
       "\n",
       "   NB_LG    ...      RÇ¸sidence hÇïteliÇùre Çÿ vocation sociale  \\\n",
       "0   13.0    ...                                             NaN   \n",
       "1   21.0    ...                                             NaN   \n",
       "2   19.0    ...                                             NaN   \n",
       "3    6.0    ...                                             NaN   \n",
       "4   21.0    ...                                             NaN   \n",
       "\n",
       "   Sans domicile fixe  Structure d??hÇ¸bergement  \\\n",
       "0                 NaN                         NaN   \n",
       "1                 NaN                         NaN   \n",
       "2                 NaN                         NaN   \n",
       "3                 NaN                         NaN   \n",
       "4                 NaN                         NaN   \n",
       "\n",
       "   Sous locataire ou hÇ¸bergÇ¸ dans un logement Çÿ titre temporaire  \\\n",
       "0                                                NaN                  \n",
       "1                                                NaN                  \n",
       "2                                                NaN                  \n",
       "3                                                NaN                  \n",
       "4                                                NaN                  \n",
       "\n",
       "   Locataire dans un logement social  Louez solidaire et sans risque  \\\n",
       "0                                NaN                             NaN   \n",
       "1                                NaN                             NaN   \n",
       "2                                NaN                             NaN   \n",
       "3                                NaN                             NaN   \n",
       "4                                NaN                             NaN   \n",
       "\n",
       "   Dans un squat  TOT_PROP  TOT_LOC  TOTAL_DEM  \n",
       "0            NaN       NaN      NaN        NaN  \n",
       "1            NaN       NaN      NaN        NaN  \n",
       "2            NaN       0.0      2.0        2.0  \n",
       "3            NaN       NaN      NaN        NaN  \n",
       "4            NaN       NaN      NaN        NaN  \n",
       "\n",
       "[5 rows x 71 columns]"
      ]
     },
     "execution_count": 10,
     "metadata": {},
     "output_type": "execute_result"
    }
   ],
   "source": [
    "#Importation de la base de données avec pandas\n",
    "\n",
    "insalubrite = pd.read_csv(os.path.join(path_output, 'Insalubrite_corrige3.csv'), sep = \";\", encoding = \"unicode_escape\")\n",
    "del insalubrite['Unnamed: 0']\n",
    "print(len(insalubrite))\n",
    "insalubrite[:5]"
   ]
  },
  {
   "cell_type": "markdown",
   "metadata": {
    "deletable": true,
    "editable": true
   },
   "source": [
    "## Matrice des corrélations"
   ]
  },
  {
   "cell_type": "markdown",
   "metadata": {
    "deletable": true,
    "editable": true
   },
   "source": [
    "###### Afin d'avoir une première idée des différentes liaisons entre les variables, on trace la heatmap de la matrice des corrélations."
   ]
  },
  {
   "cell_type": "code",
   "execution_count": 8,
   "metadata": {
    "collapsed": false,
    "deletable": true,
    "editable": true
   },
   "outputs": [
    {
     "data": {
      "image/png": "[encoded data removed]",
      "text/plain": [
       "<matplotlib.figure.Figure at 0xc6a3208>"
      ]
     },
     "metadata": {},
     "output_type": "display_data"
    }
   ],
   "source": [
    "df1 = insalubrite.copy()\n",
    "\n",
    "# Matrice des corrélations\n",
    "sns.set(context=\"paper\", font=\"monospace\")\n",
    "corrmat = df1.corr()\n",
    "\n",
    "# matplotlib figure\n",
    "f, ax = pt.subplots(figsize=(12, 9))\n",
    "\n",
    "# Draw the heatmap using seaborn\n",
    "sns.heatmap(corrmat, vmax=.8, square = True, ax = ax)\n",
    "pt.show()\n",
    "corrmat.to_csv(os.path.join(path_output, 'corrmat.csv'), sep = \",\")"
   ]
  },
  {
   "cell_type": "markdown",
   "metadata": {
    "deletable": true,
    "editable": true
   },
   "source": [
    "# 2. Préparation de la base"
   ]
  },
  {
   "cell_type": "markdown",
   "metadata": {
    "deletable": true,
    "editable": true
   },
   "source": [
    "###### Afin de pouvoir utiliser les librairies de Machine Learning de Scikit:\n",
    "     1 - On convertit les variables catégorielles (qualitatives) en variables numériques à l'aide de la librairie \n",
    "     préprocessing de Scikit Learn.\n",
    "     2 - On remplace les valeurs manquantes (missing values) à l'aide de la librairie Imputer de Scikit."
   ]
  },
  {
   "cell_type": "markdown",
   "metadata": {
    "deletable": true,
    "editable": true
   },
   "source": [
    "##### On encode les variables catégorielles."
   ]
  },
  {
   "cell_type": "code",
   "execution_count": 11,
   "metadata": {
    "collapsed": false,
    "deletable": true,
    "editable": true
   },
   "outputs": [],
   "source": [
    "le = preprocessing.LabelEncoder()\n",
    "#imp = Imputer(missing_values='NaN', strategy='most_frequent', axis=0)\n",
    "insal = insalubrite.copy()\n",
    "col = list(insalubrite)\n",
    "nbcol = len(col)\n",
    "for i in col:\n",
    "    if type(insalubrite[i][0]) == str:\n",
    "        #print(\"premier elt \",insalubrite[i][0])\n",
    "        le.fit(insalubrite[i])\n",
    "        insal[i] = le.transform(insal[i])"
   ]
  },
  {
   "cell_type": "code",
   "execution_count": 12,
   "metadata": {
    "collapsed": false,
    "deletable": true,
    "editable": true
   },
   "outputs": [
    {
     "name": "stdout",
     "output_type": "stream",
     "text": [
      "   affaire_id  code_cadastre  code_postal  infractiontype_id  L_PDNIV0  \\\n",
      "0          69             38        75101               30.0         0   \n",
      "1          71             45        75101               19.0         0   \n",
      "2          72             18        75101               30.0         0   \n",
      "\n",
      "   L_PDNIV1  L_PDNIV2  B_PUBLIC  NB_BAT  NB_LG    ...      \\\n",
      "0         6         8         0     2.0   13.0    ...       \n",
      "1         6         8         0     2.0   21.0    ...       \n",
      "2         6         8         0     1.0   19.0    ...       \n",
      "\n",
      "   RÇ¸sidence hÇïteliÇùre Çÿ vocation sociale  Sans domicile fixe  \\\n",
      "0                                         NaN                 NaN   \n",
      "1                                         NaN                 NaN   \n",
      "2                                         NaN                 NaN   \n",
      "\n",
      "   Structure d??hÇ¸bergement  \\\n",
      "0                         NaN   \n",
      "1                         NaN   \n",
      "2                         NaN   \n",
      "\n",
      "   Sous locataire ou hÇ¸bergÇ¸ dans un logement Çÿ titre temporaire  \\\n",
      "0                                                NaN                  \n",
      "1                                                NaN                  \n",
      "2                                                NaN                  \n",
      "\n",
      "   Locataire dans un logement social  Louez solidaire et sans risque  \\\n",
      "0                                NaN                             NaN   \n",
      "1                                NaN                             NaN   \n",
      "2                                NaN                             NaN   \n",
      "\n",
      "   Dans un squat  TOT_PROP  TOT_LOC  TOTAL_DEM  \n",
      "0            NaN       NaN      NaN        NaN  \n",
      "1            NaN       NaN      NaN        NaN  \n",
      "2            NaN       0.0      2.0        2.0  \n",
      "\n",
      "[3 rows x 71 columns]\n"
     ]
    }
   ],
   "source": [
    "print(insal[:3])"
   ]
  },
  {
   "cell_type": "markdown",
   "metadata": {
    "deletable": true,
    "editable": true
   },
   "source": [
    "##### On remplit les données manquantes avec la stratégie de la valeur la plus fréquente."
   ]
  },
  {
   "cell_type": "code",
   "execution_count": 13,
   "metadata": {
    "collapsed": false,
    "deletable": true,
    "editable": true
   },
   "outputs": [],
   "source": [
    "imp = Imputer(missing_values='NaN', strategy='most_frequent', axis=0)\n",
    "imputed_DF = pd.DataFrame(imp.fit_transform(insal))\n",
    "imputed_DF.columns = insal.columns\n",
    "imputed_DF.index = insal.index"
   ]
  },
  {
   "cell_type": "code",
   "execution_count": 13,
   "metadata": {
    "collapsed": false,
    "deletable": true,
    "editable": true
   },
   "outputs": [
    {
     "name": "stdout",
     "output_type": "stream",
     "text": [
      "   affaire_id  code_cadastre  code_postal  infractiontype_id  L_PDNIV0  \\\n",
      "0          69             38        75101                 30         0   \n",
      "1          71             45        75101                 19         0   \n",
      "2          72             18        75101                 30         0   \n",
      "\n",
      "   L_PDNIV1  L_PDNIV2  B_PUBLIC  NB_BAT  NB_LG    ...      \\\n",
      "0         6         8         0       2     13    ...       \n",
      "1         6         8         0       2     21    ...       \n",
      "2         6         8         0       1     19    ...       \n",
      "\n",
      "   RÇ¸sidence hÇïteliÇùre Çÿ vocation sociale  Sans domicile fixe  \\\n",
      "0                                           1                   1   \n",
      "1                                           1                   1   \n",
      "2                                           1                   1   \n",
      "\n",
      "   Structure d??hÇ¸bergement  \\\n",
      "0                           1   \n",
      "1                           1   \n",
      "2                           1   \n",
      "\n",
      "   Sous locataire ou hÇ¸bergÇ¸ dans un logement Çÿ titre temporaire  \\\n",
      "0                                                  1                  \n",
      "1                                                  1                  \n",
      "2                                                  1                  \n",
      "\n",
      "   Locataire dans un logement social  Louez solidaire et sans risque  \\\n",
      "0                                  1                               1   \n",
      "1                                  1                               1   \n",
      "2                                  1                               1   \n",
      "\n",
      "   Dans un squat  TOT_PROP  TOT_LOC  TOTAL_DEM  \n",
      "0              1         0        1          1  \n",
      "1              1         0        1          1  \n",
      "2              1         0        2          2  \n",
      "\n",
      "[3 rows x 71 columns]\n"
     ]
    }
   ],
   "source": [
    "print(imputed_DF[:3])"
   ]
  },
  {
   "cell_type": "markdown",
   "metadata": {
    "deletable": true,
    "editable": true
   },
   "source": [
    "##### Comparaison entre les deux bases avant et après traitement numérique."
   ]
  },
  {
   "cell_type": "code",
   "execution_count": 14,
   "metadata": {
    "collapsed": false,
    "deletable": true,
    "editable": true
   },
   "outputs": [
    {
     "name": "stdout",
     "output_type": "stream",
     "text": [
      "-------------\n",
      "Base insalubrite\n",
      "-------------\n",
      "0    751010AR0027\n",
      "1    751010AR0099\n",
      "2    751010AO0154\n",
      "3    751010AX0031\n",
      "4    751010AY0054\n",
      "Name: code_cadastre, dtype: object\n",
      "-------------\n",
      "Base insal\n",
      "-------------\n",
      "0    38.0\n",
      "1    45.0\n",
      "2    18.0\n",
      "3    71.0\n",
      "4    76.0\n",
      "Name: code_cadastre, dtype: float64\n"
     ]
    }
   ],
   "source": [
    "print(\"-------------\")\n",
    "print(\"Base insalubrite\")\n",
    "print(\"-------------\")\n",
    "print(insalubrite.code_cadastre[:5])\n",
    "print(\"-------------\")\n",
    "print(\"Base insal\")\n",
    "print(\"-------------\")\n",
    "print(imputed_DF.code_cadastre[:5])"
   ]
  },
  {
   "cell_type": "markdown",
   "metadata": {
    "deletable": true,
    "editable": true
   },
   "source": [
    "# 3. Prédiction par forêts aléatoires "
   ]
  },
  {
   "cell_type": "markdown",
   "metadata": {
    "deletable": true,
    "editable": true
   },
   "source": [
    "##### On s'intéresse à la prédiction de la variable infractiontype_id par l'ensemble des autres variables en vue de pouvoir déterminer le type d'infraction à la salubrité du lieu de signalement avant même toute expertise de la part de l'agent. "
   ]
  },
  {
   "cell_type": "markdown",
   "metadata": {
    "deletable": true,
    "editable": true
   },
   "source": [
    "##### On sépare les données en variable à prédire et variables prédictives."
   ]
  },
  {
   "cell_type": "code",
   "execution_count": 16,
   "metadata": {
    "collapsed": false,
    "deletable": true,
    "editable": true
   },
   "outputs": [],
   "source": [
    "X = imputed_DF.copy()\n",
    "Y = X.infractiontype_id\n",
    "#On sépare la variable à prédire des variables d'entrées\n",
    "X = X.drop('infractiontype_id',axis=1)\n",
    "#On enlève la variable affaire_id sans intérêt pour la prédiction\n",
    "X = X.drop('affaire_id', axis=1)\n",
    "# print(X[:5])"
   ]
  },
  {
   "cell_type": "code",
   "execution_count": 73,
   "metadata": {
    "collapsed": false,
    "deletable": true,
    "editable": true
   },
   "outputs": [
    {
     "name": "stdout",
     "output_type": "stream",
     "text": [
      "   code_cadastre  code_postal  L_PDNIV0  L_PDNIV1  L_PDNIV2  B_PUBLIC  NB_BAT  \\\n",
      "0             38        75101         0         6         8         0       2   \n",
      "1             45        75101         0         6         8         0       2   \n",
      "2             18        75101         0         6         8         0       1   \n",
      "3             71        75101         0         6         8         0       1   \n",
      "4             76        75101         0         6         8         0       2   \n",
      "\n",
      "   NB_LG  M2_SHABLG  AN_MIN    ...      \\\n",
      "0     13        856    1750    ...       \n",
      "1     21       1285    1880    ...       \n",
      "2     19        356    1880    ...       \n",
      "3      6        386    1880    ...       \n",
      "4     21       1237    1800    ...       \n",
      "\n",
      "   RÇ¸sidence hÇïteliÇùre Çÿ vocation sociale  Sans domicile fixe  \\\n",
      "0                                           1                   1   \n",
      "1                                           1                   1   \n",
      "2                                           1                   1   \n",
      "3                                           1                   1   \n",
      "4                                           1                   1   \n",
      "\n",
      "   Structure d??hÇ¸bergement  \\\n",
      "0                           1   \n",
      "1                           1   \n",
      "2                           1   \n",
      "3                           1   \n",
      "4                           1   \n",
      "\n",
      "   Sous locataire ou hÇ¸bergÇ¸ dans un logement Çÿ titre temporaire  \\\n",
      "0                                                  1                  \n",
      "1                                                  1                  \n",
      "2                                                  1                  \n",
      "3                                                  1                  \n",
      "4                                                  1                  \n",
      "\n",
      "   Locataire dans un logement social  Louez solidaire et sans risque  \\\n",
      "0                                  1                               1   \n",
      "1                                  1                               1   \n",
      "2                                  1                               1   \n",
      "3                                  1                               1   \n",
      "4                                  1                               1   \n",
      "\n",
      "   Dans un squat  TOT_PROP  TOT_LOC  TOTAL_DEM  \n",
      "0              1         0        1          1  \n",
      "1              1         0        1          1  \n",
      "2              1         0        2          2  \n",
      "3              1         0        1          1  \n",
      "4              1         0        1          1  \n",
      "\n",
      "[5 rows x 69 columns]\n"
     ]
    }
   ],
   "source": [
    "#print(X[:5])"
   ]
  },
  {
   "cell_type": "markdown",
   "metadata": {
    "deletable": true,
    "editable": true
   },
   "source": [
    "###### Exemple visuel d'un arbre de prédiction avec une longueur maximum de 3"
   ]
  },
  {
   "cell_type": "code",
   "execution_count": 17,
   "metadata": {
    "collapsed": false,
    "deletable": true,
    "editable": true
   },
   "outputs": [],
   "source": [
    "clf = tree.DecisionTreeClassifier(max_depth=2)\n",
    "clf = clf.fit(X, Y)\n",
    "with open(\"tree_exemple.dot\", 'w') as f:\n",
    "    f = tree.export_graphviz(clf, feature_names = X.columns, out_file=f)"
   ]
  },
  {
   "cell_type": "markdown",
   "metadata": {
    "deletable": true,
    "editable": true
   },
   "source": [
    "### Construction de l'estimateur par forêts aléatoires."
   ]
  },
  {
   "cell_type": "markdown",
   "metadata": {
    "deletable": true,
    "editable": true
   },
   "source": [
    "###### Paramètres optionnels importants de la fonction RandomForestClassifier:\n",
    "    - n_estimators : The number of trees in the forest.\n",
    "    - criterion : The function to measure the quality of a split. \n",
    "        Supported criteria are “gini” for the Gini impurity and “entropy” for the information gain. \n",
    "    - max_features : The number of features to consider when looking for the best split.\n",
    "        If “auto”, then max_features=sqrt(n_features).\n",
    "    - max_depth : The maximum depth of the tree.\n",
    "    - min_samples_split : The minimum number of samples required to split an internal node.\n",
    "    - min_samples_leaf : The minimum number of samples required to be at a leaf node\n",
    "    - min_impurity_split : Threshold for early stopping in tree growth. A node will split if its impurity is above the threshold, otherwise it is a leaf.\n",
    "    - bootstrap : Whether bootstrap samples are used when building trees.\n",
    "    - oob_score :Whether to use out-of-bag samples to estimate the generalization accuracy (out-of-bag estimate are samples not used for training due to bagging procedure.)"
   ]
  },
  {
   "cell_type": "code",
   "execution_count": 18,
   "metadata": {
    "collapsed": false,
    "deletable": true,
    "editable": true
   },
   "outputs": [],
   "source": [
    "clf = RandomForestClassifier(n_estimators=50, criterion='gini', max_depth=27,min_samples_split = 2,min_samples_leaf = 1,\n",
    "                             max_features='auto', bootstrap=True, oob_score=True)\n",
    "clf = clf.fit(X, Y)\n",
    "insalubrite_prediction = clf.predict(X)"
   ]
  },
  {
   "cell_type": "code",
   "execution_count": 19,
   "metadata": {
    "collapsed": false,
    "deletable": true,
    "editable": true
   },
   "outputs": [
    {
     "name": "stdout",
     "output_type": "stream",
     "text": [
      "[ 30.  19.  11.  30.  30.  30.]\n",
      "0    30.0\n",
      "1    19.0\n",
      "2    30.0\n",
      "3    30.0\n",
      "4    30.0\n",
      "5    30.0\n",
      "Name: infractiontype_id, dtype: float64\n"
     ]
    }
   ],
   "source": [
    "print(insalubrite_prediction[:6])\n",
    "print(Y[:6])"
   ]
  },
  {
   "cell_type": "markdown",
   "metadata": {
    "deletable": true,
    "editable": true
   },
   "source": [
    "##### Etablissement du score de prédiction avec les deux indicateurs."
   ]
  },
  {
   "cell_type": "code",
   "execution_count": 20,
   "metadata": {
    "collapsed": false,
    "deletable": true,
    "editable": true
   },
   "outputs": [
    {
     "name": "stdout",
     "output_type": "stream",
     "text": [
      "Pourcentage de bonnes prédictions :  0.7052455806990269\n",
      "Pourcentage de bonnes prédictions en cas d'intervention : 0.6416420413704975\n"
     ]
    }
   ],
   "source": [
    "compteur_tot = 0 #compte le nombre de bonnes prédictions\n",
    "compteur_part = 0 #compte le nombre de bonnes prédictions menant à une intervention\n",
    "nb_insalubrite = 0 #compte le nombre de situations d'insalubrité\n",
    "\n",
    "for i in range(len(Y)):\n",
    "    if Y[i] !=30:\n",
    "        nb_insalubrite+=1\n",
    "    if Y[i]==insalubrite_prediction[i]:\n",
    "        compteur_tot +=1\n",
    "        if Y[i]!=30:\n",
    "            compteur_part+=1\n",
    "print(\"Pourcentage de bonnes prédictions : \",compteur_tot/len(Y))\n",
    "print(\"Pourcentage de bonnes prédictions en cas d'intervention :\", compteur_part/nb_insalubrite) "
   ]
  },
  {
   "cell_type": "markdown",
   "metadata": {
    "deletable": true,
    "editable": true
   },
   "source": [
    "###### Classement des features par ordres d'importance."
   ]
  },
  {
   "cell_type": "code",
   "execution_count": 29,
   "metadata": {
    "collapsed": false,
    "deletable": true,
    "editable": true
   },
   "outputs": [
    {
     "name": "stdout",
     "output_type": "stream",
     "text": [
      "[('Foyers agents Ville ou agents CASVP', 0.0), (\"Dans un local non destinÇ¸ Çÿ l'habitat (cave, parking, etc.)\", 0.0), ('Centre dÇ¸partemental de l\\x83??enfance et de la famille ou centre maternel', 9.0952610678120034e-06), ('RÇ¸sidence hÇïteliÇùre Çÿ vocation sociale', 1.6309037391239755e-05), ('Dans un squat', 3.0802446507616268e-05), ('RÇ¸sidence Ç¸tudiant', 6.7545823738567704e-05), (\"LogÇ¸ Çÿ l'hÇïtel\", 7.3491206953598117e-05), ('Louez solidaire et sans risque', 8.2818892432758408e-05), ('LogÇ¸ dans un logement de fonction par votre employeur', 0.00018175837811170757), ('Structure d\\x83??hÇ¸bergement', 0.00030046451119471304), ('Sans domicile fixe', 0.00030481412587736375), ('LogÇ¸ Çÿ titre gratuit', 0.00031354392901913495), (\"LogÇ¸ dans un hÇïtel social, par un centre d'hÇ¸bergement, un logement d'urgence ou une association\", 0.00036578325251987432), ('LogÇ¸ dans un foyer', 0.0004152967230248917), ('PropriÇ¸taire', 0.00061912412438679587), ('Sous locataire ou hÇ¸bergÇ¸ dans un logement Çÿ titre temporaire', 0.0006856397188012563), ('hotel meublÇ¸', 0.00068942303771763261), ('NB_PIANX', 0.00084356755080247908), ('B_PUBLIC', 0.0014745236975095125), ('NB_LG_IMP', 0.0031143106790397137), ('LogÇ¸ chez des parents', 0.0033630972671935822), ('NB_LG_NIM', 0.0035995599402551893), (\"LogÇ¸ chez d'autres personnes\", 0.0036694742948747416), ('Locataire dans un logement social', 0.0038185036821542996), ('TOT_PROP', 0.003827832510703334), ('L_PDNIV0', 0.0047755828114246501), ('NB_LG_SRU', 0.0047773740381592718), ('L_PDNIV1', 0.0071600026118311148), ('NB_PUAGRE', 0.007332177382331934), ('L_PDNIV2', 0.0074488316499846394), ('NB_BOXPGA', 0.0075590881891136122), ('NB_LG1_9', 0.012452241930175361), ('NB_LG_GRA', 0.012729552331208663), ('NB_PIE_IN', 0.012844691113679507), ('Locataire dans le privÇ¸', 0.013631498573086612), ('NB_LG_S90', 0.01395312370685621), ('NB_LG7089', 0.01560924762190889), ('NB_BAT', 0.015666157542849998), ('TOT_LOC', 0.016427029579113149), ('M2_DEP', 0.016709793341308579), ('TOTAL_DEM', 0.016779680580338401), ('NB_NIVBAT', 0.017931263432257885), ('NB_PIE_4P', 0.018920029257741888), ('NB_LOCACT', 0.021300036213853644), ('NB_LG5069', 0.02244595320598191), ('NB_LG4049', 0.023118396249087202), ('NB_LG1019', 0.024326863753355056), ('code_postal', 0.024498359518667252), ('NB_PIEC_3', 0.024719021753410252), ('AN_BATLG', 0.025082024035017011), ('AN_BATSUR', 0.02533937589081018), ('NB_LG_VAC', 0.025817762061323201), ('AN_BATLOA', 0.02582247571443191), ('NB_LG_PRO', 0.027049450453359616), ('AN_MIN', 0.027106686510059048), ('NB_LG3039', 0.027214665088936205), ('NB_LG2029', 0.027281108465635251), ('AN_MAX', 0.028029586788649915), ('NB_PIEC_1', 0.028439807944598008), ('NB_LG', 0.029986312658257321), ('NB_PIEC_2', 0.030013934403460275), ('NB_CAVGRE', 0.031025781560741861), ('M2_LOCACT', 0.033159084373203439), ('NB_LG_LOC', 0.033323153195292214), ('M2_SHAB', 0.034202283389880433), ('M2_PLANCH', 0.034607717552893151), ('M2_SHABLG', 0.035264822034806333), ('DENS_BATI', 0.038457027922762413), ('code_cadastre', 0.041794163476878789)]\n"
     ]
    }
   ],
   "source": [
    "#Liste des coefficients de pondérations devant les features dans la prédiction\n",
    "ponderation = clf.feature_importances_\n",
    "cols = X.columns.values\n",
    "features = [(cols[i], ponderation[i]) for i in range(len(cols))]\n",
    "print(sorted(features, key=lambda features: features[1]))"
   ]
  },
  {
   "cell_type": "markdown",
   "metadata": {
    "deletable": true,
    "editable": true
   },
   "source": [
    "# 4. Prédiction par K-means"
   ]
  },
  {
   "cell_type": "markdown",
   "metadata": {
    "deletable": true,
    "editable": true
   },
   "source": [
    "### Séparation des données en base test et base d'apprentissage."
   ]
  },
  {
   "cell_type": "code",
   "execution_count": 45,
   "metadata": {
    "collapsed": true,
    "deletable": true,
    "editable": true
   },
   "outputs": [],
   "source": [
    "X_train, X_test = train_test_split(imputed_DF, test_size = 0.2)"
   ]
  },
  {
   "cell_type": "code",
   "execution_count": 72,
   "metadata": {
    "collapsed": false,
    "deletable": true,
    "editable": true
   },
   "outputs": [
    {
     "data": {
      "text/html": [
       "<div>\n",
       "<table border=\"1\" class=\"dataframe\">\n",
       "  <thead>\n",
       "    <tr style=\"text-align: right;\">\n",
       "      <th></th>\n",
       "      <th>code_cadastre</th>\n",
       "      <th>code_postal</th>\n",
       "      <th>L_PDNIV0</th>\n",
       "      <th>L_PDNIV1</th>\n",
       "      <th>L_PDNIV2</th>\n",
       "      <th>B_PUBLIC</th>\n",
       "      <th>NB_BAT</th>\n",
       "      <th>NB_LG</th>\n",
       "      <th>M2_SHABLG</th>\n",
       "      <th>AN_MIN</th>\n",
       "      <th>...</th>\n",
       "      <th>RÇ¸sidence hÇïteliÇùre Çÿ vocation sociale</th>\n",
       "      <th>Sans domicile fixe</th>\n",
       "      <th>Structure d??hÇ¸bergement</th>\n",
       "      <th>Sous locataire ou hÇ¸bergÇ¸ dans un logement Çÿ titre temporaire</th>\n",
       "      <th>Locataire dans un logement social</th>\n",
       "      <th>Louez solidaire et sans risque</th>\n",
       "      <th>Dans un squat</th>\n",
       "      <th>TOT_PROP</th>\n",
       "      <th>TOT_LOC</th>\n",
       "      <th>TOTAL_DEM</th>\n",
       "    </tr>\n",
       "  </thead>\n",
       "  <tbody>\n",
       "    <tr>\n",
       "      <th>3164</th>\n",
       "      <td>2528</td>\n",
       "      <td>75111</td>\n",
       "      <td>0</td>\n",
       "      <td>6</td>\n",
       "      <td>8</td>\n",
       "      <td>0</td>\n",
       "      <td>2</td>\n",
       "      <td>25</td>\n",
       "      <td>699</td>\n",
       "      <td>1800</td>\n",
       "      <td>...</td>\n",
       "      <td>1</td>\n",
       "      <td>1</td>\n",
       "      <td>1</td>\n",
       "      <td>1</td>\n",
       "      <td>1</td>\n",
       "      <td>1</td>\n",
       "      <td>1</td>\n",
       "      <td>0</td>\n",
       "      <td>4</td>\n",
       "      <td>4</td>\n",
       "    </tr>\n",
       "    <tr>\n",
       "      <th>2258</th>\n",
       "      <td>7426</td>\n",
       "      <td>75118</td>\n",
       "      <td>1</td>\n",
       "      <td>12</td>\n",
       "      <td>20</td>\n",
       "      <td>1</td>\n",
       "      <td>1</td>\n",
       "      <td>4</td>\n",
       "      <td>281</td>\n",
       "      <td>2011</td>\n",
       "      <td>...</td>\n",
       "      <td>1</td>\n",
       "      <td>1</td>\n",
       "      <td>1</td>\n",
       "      <td>1</td>\n",
       "      <td>1</td>\n",
       "      <td>1</td>\n",
       "      <td>1</td>\n",
       "      <td>0</td>\n",
       "      <td>2</td>\n",
       "      <td>2</td>\n",
       "    </tr>\n",
       "    <tr>\n",
       "      <th>8938</th>\n",
       "      <td>9347</td>\n",
       "      <td>75120</td>\n",
       "      <td>1</td>\n",
       "      <td>7</td>\n",
       "      <td>15</td>\n",
       "      <td>1</td>\n",
       "      <td>18</td>\n",
       "      <td>462</td>\n",
       "      <td>23130</td>\n",
       "      <td>1934</td>\n",
       "      <td>...</td>\n",
       "      <td>1</td>\n",
       "      <td>1</td>\n",
       "      <td>1</td>\n",
       "      <td>1</td>\n",
       "      <td>45</td>\n",
       "      <td>1</td>\n",
       "      <td>1</td>\n",
       "      <td>0</td>\n",
       "      <td>85</td>\n",
       "      <td>85</td>\n",
       "    </tr>\n",
       "  </tbody>\n",
       "</table>\n",
       "<p>3 rows × 69 columns</p>\n",
       "</div>"
      ],
      "text/plain": [
       "      code_cadastre  code_postal  L_PDNIV0  L_PDNIV1  L_PDNIV2  B_PUBLIC  \\\n",
       "3164           2528        75111         0         6         8         0   \n",
       "2258           7426        75118         1        12        20         1   \n",
       "8938           9347        75120         1         7        15         1   \n",
       "\n",
       "      NB_BAT  NB_LG  M2_SHABLG  AN_MIN    ...      \\\n",
       "3164       2     25        699    1800    ...       \n",
       "2258       1      4        281    2011    ...       \n",
       "8938      18    462      23130    1934    ...       \n",
       "\n",
       "      RÇ¸sidence hÇïteliÇùre Çÿ vocation sociale  Sans domicile fixe  \\\n",
       "3164                                           1                   1   \n",
       "2258                                           1                   1   \n",
       "8938                                           1                   1   \n",
       "\n",
       "      Structure d??hÇ¸bergement  \\\n",
       "3164                           1   \n",
       "2258                           1   \n",
       "8938                           1   \n",
       "\n",
       "      Sous locataire ou hÇ¸bergÇ¸ dans un logement Çÿ titre temporaire  \\\n",
       "3164                                                  1                  \n",
       "2258                                                  1                  \n",
       "8938                                                  1                  \n",
       "\n",
       "      Locataire dans un logement social  Louez solidaire et sans risque  \\\n",
       "3164                                  1                               1   \n",
       "2258                                  1                               1   \n",
       "8938                                 45                               1   \n",
       "\n",
       "      Dans un squat  TOT_PROP  TOT_LOC  TOTAL_DEM  \n",
       "3164              1         0        4          4  \n",
       "2258              1         0        2          2  \n",
       "8938              1         0       85         85  \n",
       "\n",
       "[3 rows x 69 columns]"
      ]
     },
     "execution_count": 72,
     "metadata": {},
     "output_type": "execute_result"
    }
   ],
   "source": [
    "X_test[:3]"
   ]
  },
  {
   "cell_type": "markdown",
   "metadata": {
    "deletable": true,
    "editable": true
   },
   "source": [
    "##### On sépare les données en variable à prédire et variables prédictives.\n"
   ]
  },
  {
   "cell_type": "code",
   "execution_count": 47,
   "metadata": {
    "collapsed": true,
    "deletable": true,
    "editable": true
   },
   "outputs": [],
   "source": [
    "Y_train = X_train.infractiontype_id\n",
    "Y_test = X_test.infractiontype_id\n",
    "#On sépare la variable à prédire des variables d'entrées\n",
    "X_test = X_test.drop('infractiontype_id',axis=1)\n",
    "X_train = X_train.drop('infractiontype_id',axis=1)\n",
    "#On enlève la variable affaire_id sans intérêt pour la prédiction\n",
    "X_test = X_test.drop('affaire_id',axis=1)\n",
    "X_train = X_train.drop('affaire_id',axis=1)"
   ]
  },
  {
   "cell_type": "markdown",
   "metadata": {
    "deletable": true,
    "editable": true
   },
   "source": [
    "##### On sépare les données en variable à prédire et variables prédictives."
   ]
  },
  {
   "cell_type": "code",
   "execution_count": 12,
   "metadata": {
    "collapsed": true,
    "deletable": true,
    "editable": true
   },
   "outputs": [],
   "source": [
    "X = imputed_DF.copy()\n",
    "Y = X.infractiontype_id\n",
    "#On sépare la variable à prédire des variables d'entrées\n",
    "X = X.drop('infractiontype_id',axis=1)\n",
    "#On enlève la variable affaire_id sans intérêt pour la prédiction\n",
    "X = X.drop('affaire_id', axis=1)\n",
    "# print(X[:5])"
   ]
  },
  {
   "cell_type": "markdown",
   "metadata": {
    "deletable": true,
    "editable": true
   },
   "source": [
    "###### Paramètres optionnels importants de la fonction KNeighborsClassifier:\n",
    "    - n_neighbors : Number of neighbors to use by default for k_neighbors queries.\n",
    "    - weight : weight function used in prediction (uniform, distance). weight points by the inverse of their distance. in this case, closer neighbors of a query point will have a greater influence than neighbors which are further away.\n",
    "    - metric : the distance metric to use for the tree (Euclidean )\n",
    "    - n_jobs : The number of parallel jobs to run for neighbors search. If -1, then the number of jobs is set to the number of CPU cores. "
   ]
  },
  {
   "cell_type": "code",
   "execution_count": 18,
   "metadata": {
    "collapsed": false,
    "deletable": true,
    "editable": true
   },
   "outputs": [
    {
     "data": {
      "text/plain": [
       "KNeighborsClassifier(algorithm='auto', leaf_size=30, metric='minkowski',\n",
       "           metric_params=None, n_jobs=1, n_neighbors=5, p=2,\n",
       "           weights='distance')"
      ]
     },
     "execution_count": 18,
     "metadata": {},
     "output_type": "execute_result"
    }
   ],
   "source": [
    "KNC = KNeighborsClassifier(n_neighbors = 5, weights = 'distance',p=2, metric = 'minkowski')\n",
    "KNC.fit(X, Y)"
   ]
  },
  {
   "cell_type": "code",
   "execution_count": 57,
   "metadata": {
    "collapsed": false,
    "deletable": true,
    "editable": true
   },
   "outputs": [
    {
     "data": {
      "text/plain": [
       "KNeighborsClassifier(algorithm='auto', leaf_size=30, metric='minkowski',\n",
       "           metric_params=None, n_jobs=1, n_neighbors=50, p=2,\n",
       "           weights='uniform')"
      ]
     },
     "execution_count": 57,
     "metadata": {},
     "output_type": "execute_result"
    }
   ],
   "source": [
    "KNC.fit(X_train, Y_train)"
   ]
  },
  {
   "cell_type": "code",
   "execution_count": 1,
   "metadata": {
    "collapsed": false,
    "deletable": true,
    "editable": true
   },
   "outputs": [],
   "source": [
    "# insalubrite_prediction = KNC.predict(X_test)"
   ]
  },
  {
   "cell_type": "code",
   "execution_count": 19,
   "metadata": {
    "collapsed": true,
    "deletable": true,
    "editable": true
   },
   "outputs": [],
   "source": [
    "insalubrite_prediction = KNC.predict(X)"
   ]
  },
  {
   "cell_type": "markdown",
   "metadata": {
    "deletable": true,
    "editable": true
   },
   "source": [
    "##### Etablissement du score de prédiction avec les deux indicateurs."
   ]
  },
  {
   "cell_type": "code",
   "execution_count": 63,
   "metadata": {
    "collapsed": false,
    "deletable": true,
    "editable": true
   },
   "outputs": [
    {
     "data": {
      "text/plain": [
       "numpy.ndarray"
      ]
     },
     "execution_count": 63,
     "metadata": {},
     "output_type": "execute_result"
    }
   ],
   "source": [
    "type(insalubrite_prediction)"
   ]
  },
  {
   "cell_type": "code",
   "execution_count": 64,
   "metadata": {
    "collapsed": false,
    "deletable": true,
    "editable": true
   },
   "outputs": [
    {
     "data": {
      "text/plain": [
       "pandas.core.series.Series"
      ]
     },
     "execution_count": 64,
     "metadata": {},
     "output_type": "execute_result"
    }
   ],
   "source": [
    "type(Y_test)"
   ]
  },
  {
   "cell_type": "code",
   "execution_count": 71,
   "metadata": {
    "collapsed": false,
    "deletable": true,
    "editable": true
   },
   "outputs": [
    {
     "data": {
      "text/plain": [
       "(       code_cadastre  code_postal  L_PDNIV0  L_PDNIV1  L_PDNIV2  B_PUBLIC  \\\n",
       " 3164            2528        75111         0         6         8         0   \n",
       " 2258            7426        75118         1        12        20         1   \n",
       " 8938            9347        75120         1         7        15         1   \n",
       " 15038           6495        75117         0         6         8         0   \n",
       " 5408             889        75105         0         6         8         0   \n",
       " \n",
       "        NB_BAT  NB_LG  M2_SHABLG  AN_MIN    ...      \\\n",
       " 3164        2     25        699    1800    ...       \n",
       " 2258        1      4        281    2011    ...       \n",
       " 8938       18    462      23130    1934    ...       \n",
       " 15038       3     21        383    1880    ...       \n",
       " 5408        2     11        563    1875    ...       \n",
       " \n",
       "        RÇ¸sidence hÇïteliÇùre Çÿ vocation sociale  Sans domicile fixe  \\\n",
       " 3164                                            1                   1   \n",
       " 2258                                            1                   1   \n",
       " 8938                                            1                   1   \n",
       " 15038                                           1                   1   \n",
       " 5408                                            1                   1   \n",
       " \n",
       "        Structure d??hÇ¸bergement  \\\n",
       " 3164                            1   \n",
       " 2258                            1   \n",
       " 8938                            1   \n",
       " 15038                           1   \n",
       " 5408                            1   \n",
       " \n",
       "        Sous locataire ou hÇ¸bergÇ¸ dans un logement Çÿ titre temporaire  \\\n",
       " 3164                                                   1                  \n",
       " 2258                                                   1                  \n",
       " 8938                                                   1                  \n",
       " 15038                                                  1                  \n",
       " 5408                                                   1                  \n",
       " \n",
       "        Locataire dans un logement social  Louez solidaire et sans risque  \\\n",
       " 3164                                   1                               1   \n",
       " 2258                                   1                               1   \n",
       " 8938                                  45                               1   \n",
       " 15038                                  1                               1   \n",
       " 5408                                   1                               1   \n",
       " \n",
       "        Dans un squat  TOT_PROP  TOT_LOC  TOTAL_DEM  \n",
       " 3164               1         0        4          4  \n",
       " 2258               1         0        2          2  \n",
       " 8938               1         0       85         85  \n",
       " 15038              1         1        3          4  \n",
       " 5408               1         0        2          2  \n",
       " \n",
       " [5 rows x 69 columns], 3164     11\n",
       " 2258     30\n",
       " 8938     15\n",
       " 15038    30\n",
       " 5408     30\n",
       " 5598     30\n",
       " 13247     9\n",
       " 15719    30\n",
       " 8482     13\n",
       " 16018    30\n",
       " Name: infractiontype_id, dtype: float64, array([ 30.,  30.,  14.,  14.,  30.,  30.,  14.,  30.,  30.,  30.]))"
      ]
     },
     "execution_count": 71,
     "metadata": {},
     "output_type": "execute_result"
    }
   ],
   "source": [
    "X_test[:], Y_test[:10], insalubrite_prediction[:10]"
   ]
  },
  {
   "cell_type": "code",
   "execution_count": 76,
   "metadata": {
    "collapsed": false,
    "deletable": true,
    "editable": true
   },
   "outputs": [
    {
     "data": {
      "text/plain": [
       "Int64Index([ 3164,  2258,  8938, 15038,  5408,  5598, 13247, 15719,  8482,\n",
       "            16018,\n",
       "            ...\n",
       "             1689, 13647, 13955, 16252, 12870, 10781, 10135, 10375,  2482,\n",
       "            14131],\n",
       "           dtype='int64', length=3474)"
      ]
     },
     "execution_count": 76,
     "metadata": {},
     "output_type": "execute_result"
    }
   ],
   "source": [
    "Y_test.index"
   ]
  },
  {
   "cell_type": "code",
   "execution_count": 2,
   "metadata": {
    "collapsed": false,
    "deletable": true,
    "editable": true
   },
   "outputs": [],
   "source": [
    "# compteur_tot = 0 #compte le nombre de bonnes prédictions\n",
    "# compteur_part = 0 #compte le nombre de bonnes prédictions menant à une intervention\n",
    "# nb_insalubrite = 0 #compte le nombre de situations d'insalubrité\n",
    "# index = Y_test.index\n",
    "# for i in range(len(Y_test)):\n",
    "#     if Y_test[index[i]] !=30:\n",
    "#         nb_insalubrite+=1\n",
    "#     if Y_test[index[i]]==insalubrite_prediction[i]:\n",
    "#         compteur_tot +=1\n",
    "#         if Y_test[index[i]]!=30:\n",
    "#             compteur_part+=1\n",
    "# print(\"Pourcentage de bonnes prédictions : \",compteur_tot/len(Y))\n",
    "# print(\"Pourcentage de bonnes prédictions en cas d'intervention :\", compteur_part/nb_insalubrite) "
   ]
  },
  {
   "cell_type": "code",
   "execution_count": 21,
   "metadata": {
    "collapsed": false,
    "deletable": true,
    "editable": true
   },
   "outputs": [
    {
     "name": "stdout",
     "output_type": "stream",
     "text": [
      "Pourcentage de bonnes prédictions :  0.6963206080497495\n",
      "Pourcentage de bonnes prédictions en cas d'intervention : 0.6629662167558502\n"
     ]
    }
   ],
   "source": [
    "compteur_tot = 0 #compte le nombre de bonnes prédictions\n",
    "compteur_part = 0 #compte le nombre de bonnes prédictions menant à une intervention\n",
    "nb_insalubrite = 0 #compte le nombre de situations d'insalubrité\n",
    "\n",
    "for i in range(len(Y)):\n",
    "    if Y[i] !=30:\n",
    "        nb_insalubrite+=1\n",
    "    if Y[i]==insalubrite_prediction[i]:\n",
    "        compteur_tot +=1\n",
    "        if Y[i]!=30:\n",
    "            compteur_part+=1\n",
    "print(\"Pourcentage de bonnes prédictions : \",compteur_tot/len(Y))\n",
    "print(\"Pourcentage de bonnes prédictions en cas d'intervention :\", compteur_part/nb_insalubrite) "
   ]
  }
 ],
 "metadata": {
  "anaconda-cloud": {},
  "kernelspec": {
   "display_name": "Python [Root]",
   "language": "python",
   "name": "Python [Root]"
  },
  "language_info": {
   "codemirror_mode": {
    "name": "ipython",
    "version": 3
   },
   "file_extension": ".py",
   "mimetype": "text/x-python",
   "name": "python",
   "nbconvert_exporter": "python",
   "pygments_lexer": "ipython3",
   "version": "3.5.3"
  }
 },
 "nbformat": 4,
 "nbformat_minor": 1
}
